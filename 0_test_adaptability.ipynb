{
 "cells": [
  {
   "attachments": {},
   "cell_type": "markdown",
   "metadata": {},
   "source": [
    "## This notebook is to test whether adaptability features work.\n",
    "\n",
    "The test code can be found in `test.py`."
   ]
  },
  {
   "cell_type": "code",
   "execution_count": 1,
   "metadata": {},
   "outputs": [
    {
     "data": {
      "text/plain": [
       "(True, device(type='cuda', index=2))"
      ]
     },
     "execution_count": 1,
     "metadata": {},
     "output_type": "execute_result"
    }
   ],
   "source": [
    "import torch.nn as nn\n",
    "import torch\n",
    "import utils\n",
    "\n",
    "device = torch.device(\"cuda:2\")\n",
    "torch.cuda.is_available(), device"
   ]
  },
  {
   "cell_type": "code",
   "execution_count": 2,
   "metadata": {},
   "outputs": [
    {
     "name": "stdout",
     "output_type": "stream",
     "text": [
      "Create ResNet-56 for CIFAR10\n"
     ]
    }
   ],
   "source": [
    "from models.AdaptableResNetCifar import AdaptableResNetCifar, createModel\n",
    "\n",
    "depth = 56\n",
    "num_classes = 10\n",
    "resnet = createModel(depth, 'CIFAR10', num_classes=num_classes)\n",
    "resnet = resnet.to(device)"
   ]
  },
  {
   "cell_type": "code",
   "execution_count": 3,
   "metadata": {},
   "outputs": [
    {
     "data": {
      "text/plain": [
       "(853018, 851904, 0.0013059513398310468)"
      ]
     },
     "execution_count": 3,
     "metadata": {},
     "output_type": "execute_result"
    }
   ],
   "source": [
    "resnet.num_parameters, resnet.num_adaptable_params, resnet.min_model_fraction"
   ]
  },
  {
   "cell_type": "code",
   "execution_count": 4,
   "metadata": {},
   "outputs": [
    {
     "name": "stdout",
     "output_type": "stream",
     "text": [
      "Layer 0, block 0 is active with 4672 parameters.\n",
      "Layer 0, block 1 is active with 4672 parameters.\n",
      "Layer 0, block 2 is active with 4672 parameters.\n",
      "Layer 0, block 3 is active with 4672 parameters.\n",
      "Layer 0, block 4 is active with 4672 parameters.\n",
      "Layer 0, block 5 is active with 4672 parameters.\n",
      "Layer 0, block 6 is active with 4672 parameters.\n",
      "Layer 0, block 7 is active with 4672 parameters.\n",
      "Layer 0, block 8 is active with 4672 parameters.\n",
      "Layer 1, block 0 is active with 13952 parameters.\n",
      "Layer 1, block 1 is active with 18560 parameters.\n",
      "Layer 1, block 2 is active with 18560 parameters.\n",
      "Layer 1, block 3 is active with 18560 parameters.\n",
      "Layer 1, block 4 is active with 18560 parameters.\n",
      "Layer 1, block 5 is active with 18560 parameters.\n",
      "Layer 1, block 6 is active with 18560 parameters.\n",
      "Layer 1, block 7 is active with 18560 parameters.\n",
      "Layer 1, block 8 is active with 18560 parameters.\n",
      "Layer 2, block 0 is active with 55552 parameters.\n",
      "Layer 2, block 1 is active with 73984 parameters.\n",
      "Layer 2, block 2 is active with 73984 parameters.\n",
      "Layer 2, block 3 is active with 73984 parameters.\n",
      "Layer 2, block 4 is active with 73984 parameters.\n",
      "Layer 2, block 5 is active with 73984 parameters.\n",
      "Layer 2, block 6 is active with 73984 parameters.\n",
      "Layer 2, block 7 is active with 73984 parameters.\n",
      "Layer 2, block 8 is active with 73984 parameters.\n",
      "The model fraction is 1.0\n"
     ]
    }
   ],
   "source": [
    "resnet.print_active_blocks()"
   ]
  },
  {
   "cell_type": "code",
   "execution_count": 5,
   "metadata": {},
   "outputs": [
    {
     "name": "stdout",
     "output_type": "stream",
     "text": [
      "Test completed with no error for 0 blocks.\n",
      "Test completed with no error for 1 blocks.\n",
      "Test completed with no error for 2 blocks.\n",
      "Test completed with no error for 3 blocks.\n",
      "Test completed with no error for 4 blocks.\n",
      "Test completed with no error for 5 blocks.\n",
      "Test completed with no error for 6 blocks.\n",
      "Test completed with no error for 7 blocks.\n",
      "Test completed with no error for 8 blocks.\n",
      "Test completed with no error for 9 blocks.\n",
      "Test completed with no error for 10 blocks.\n",
      "Test completed with no error for 11 blocks.\n",
      "Test completed with no error for 12 blocks.\n",
      "Test completed with no error for 13 blocks.\n",
      "Test completed with no error for 14 blocks.\n",
      "Test completed with no error for 15 blocks.\n",
      "Test completed with no error for 16 blocks.\n",
      "Test completed with no error for 17 blocks.\n",
      "Test completed with no error for 18 blocks.\n",
      "Test completed with no error for 19 blocks.\n",
      "Test completed with no error for 20 blocks.\n",
      "Test completed with no error for 21 blocks.\n",
      "Test completed with no error for 22 blocks.\n",
      "Test completed with no error for 23 blocks.\n",
      "Test completed with no error for 24 blocks.\n",
      "Test completed with no error for 25 blocks.\n",
      "Test completed with no error for 26 blocks.\n",
      "Test completed with no error for 27 blocks.\n"
     ]
    }
   ],
   "source": [
    "import test\n",
    "active_blocks = resnet.active_blocks\n",
    "\n",
    "for num_blocks in range(active_blocks + 1):\n",
    "    test.test_adaptability(resnet, num_blocks, device)"
   ]
  },
  {
   "cell_type": "code",
   "execution_count": 6,
   "metadata": {},
   "outputs": [
    {
     "name": "stdout",
     "output_type": "stream",
     "text": [
      "Number of Layers: 0, Model Fraction = 0.13\n",
      "Number of Layers: 1, Model Fraction = 0.68\n",
      "Number of Layers: 2, Model Fraction = 1.23\n",
      "Number of Layers: 3, Model Fraction = 1.77\n",
      "Number of Layers: 4, Model Fraction = 2.32\n",
      "Number of Layers: 5, Model Fraction = 2.87\n",
      "Number of Layers: 6, Model Fraction = 3.42\n",
      "Number of Layers: 7, Model Fraction = 3.96\n",
      "Number of Layers: 8, Model Fraction = 4.51\n",
      "Number of Layers: 9, Model Fraction = 5.06\n",
      "Number of Layers: 10, Model Fraction = 6.70\n",
      "Number of Layers: 11, Model Fraction = 8.87\n",
      "Number of Layers: 12, Model Fraction = 11.05\n",
      "Number of Layers: 13, Model Fraction = 13.22\n",
      "Number of Layers: 14, Model Fraction = 15.40\n",
      "Number of Layers: 15, Model Fraction = 17.57\n",
      "Number of Layers: 16, Model Fraction = 19.75\n",
      "Number of Layers: 17, Model Fraction = 21.93\n",
      "Number of Layers: 18, Model Fraction = 24.10\n",
      "Number of Layers: 19, Model Fraction = 30.61\n",
      "Number of Layers: 20, Model Fraction = 39.29\n",
      "Number of Layers: 21, Model Fraction = 47.96\n",
      "Number of Layers: 22, Model Fraction = 56.63\n",
      "Number of Layers: 23, Model Fraction = 65.31\n",
      "Number of Layers: 24, Model Fraction = 73.98\n",
      "Number of Layers: 25, Model Fraction = 82.65\n",
      "Number of Layers: 26, Model Fraction = 91.33\n",
      "Number of Layers: 27, Model Fraction = 100.00\n"
     ]
    }
   ],
   "source": [
    "model_fractions = utils.get_model_fractions(resnet)\n",
    "for i in range(len(model_fractions)):\n",
    "    print(f\"Number of Layers: {i}, Model Fraction = {100*model_fractions[i]:.2f}\")"
   ]
  },
  {
   "cell_type": "code",
   "execution_count": 7,
   "metadata": {},
   "outputs": [
    {
     "data": {
      "text/plain": [
       "(torch.Size([1, 10]), torch.Size([1, 16, 32, 32]))"
      ]
     },
     "execution_count": 7,
     "metadata": {},
     "output_type": "execute_result"
    }
   ],
   "source": [
    "x = torch.rand(1,3,32,32).to(device)\n",
    "out, activations = test.forward_and_get_activations(resnet, x)\n",
    "out.shape, activations[0].shape"
   ]
  },
  {
   "cell_type": "code",
   "execution_count": 8,
   "metadata": {},
   "outputs": [
    {
     "data": {
      "text/plain": [
       "27"
      ]
     },
     "execution_count": 8,
     "metadata": {},
     "output_type": "execute_result"
    }
   ],
   "source": [
    "len(activations)"
   ]
  },
  {
   "cell_type": "code",
   "execution_count": 12,
   "metadata": {},
   "outputs": [
    {
     "data": {
      "text/plain": [
       "(torch.Size([2, 10]), torch.Size([2, 64]))"
      ]
     },
     "execution_count": 12,
     "metadata": {},
     "output_type": "execute_result"
    }
   ],
   "source": [
    "def forward_and_final_activation(net: AdaptableResNetCifar, x: torch.Tensor, eval = True):\n",
    "\n",
    "    activations = []\n",
    "\n",
    "    def getActivation():\n",
    "        # the hook signature\n",
    "        def hook(model, inp, output):\n",
    "            #print(inp[0].shape)\n",
    "            output = output.view(output.size(0), -1)\n",
    "            activations.append(output)\n",
    "        return hook \n",
    "\n",
    "    hook = net.avgpool.register_forward_hook(getActivation())\n",
    "    \n",
    "    if eval:\n",
    "        net.eval()\n",
    "        \n",
    "    out = net(x)\n",
    "\n",
    "    hook.remove()\n",
    "\n",
    "    return out, activations[0]\n",
    "\n",
    "x = torch.rand(2,3,32,32).to(device)\n",
    "out, activations = forward_and_final_activation(resnet, x)\n",
    "out.shape, activations[0].shape"
   ]
  },
  {
   "cell_type": "code",
   "execution_count": null,
   "metadata": {},
   "outputs": [],
   "source": []
  }
 ],
 "metadata": {
  "kernelspec": {
   "display_name": "Python 3",
   "language": "python",
   "name": "python3"
  },
  "language_info": {
   "codemirror_mode": {
    "name": "ipython",
    "version": 3
   },
   "file_extension": ".py",
   "mimetype": "text/x-python",
   "name": "python",
   "nbconvert_exporter": "python",
   "pygments_lexer": "ipython3",
   "version": "3.9.15"
  },
  "orig_nbformat": 4,
  "vscode": {
   "interpreter": {
    "hash": "e3b333b579749e1afd7d41b56c85350d5e8c7430dec91be45626406ef829933a"
   }
  }
 },
 "nbformat": 4,
 "nbformat_minor": 2
}
